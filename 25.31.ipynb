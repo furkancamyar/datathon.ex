{
  "nbformat": 4,
  "nbformat_minor": 0,
  "metadata": {
    "colab": {
      "provenance": []
    },
    "kernelspec": {
      "name": "python3",
      "display_name": "Python 3"
    },
    "language_info": {
      "name": "python"
    }
  },
  "cells": [
    {
      "cell_type": "code",
      "execution_count": null,
      "metadata": {
        "colab": {
          "base_uri": "https://localhost:8080/",
          "height": 89
        },
        "id": "EEtKgC2H_95s",
        "outputId": "7bdd5c70-7a6c-4590-fbd1-c50ece430f61"
      },
      "outputs": [
        {
          "output_type": "display_data",
          "data": {
            "text/plain": [
              "<IPython.core.display.HTML object>"
            ],
            "text/html": [
              "\n",
              "     <input type=\"file\" id=\"files-08e50de1-f239-4e2a-a1a9-30786d66d3f2\" name=\"files[]\" multiple disabled\n",
              "        style=\"border:none\" />\n",
              "     <output id=\"result-08e50de1-f239-4e2a-a1a9-30786d66d3f2\">\n",
              "      Upload widget is only available when the cell has been executed in the\n",
              "      current browser session. Please rerun this cell to enable.\n",
              "      </output>\n",
              "      <script>// Copyright 2017 Google LLC\n",
              "//\n",
              "// Licensed under the Apache License, Version 2.0 (the \"License\");\n",
              "// you may not use this file except in compliance with the License.\n",
              "// You may obtain a copy of the License at\n",
              "//\n",
              "//      http://www.apache.org/licenses/LICENSE-2.0\n",
              "//\n",
              "// Unless required by applicable law or agreed to in writing, software\n",
              "// distributed under the License is distributed on an \"AS IS\" BASIS,\n",
              "// WITHOUT WARRANTIES OR CONDITIONS OF ANY KIND, either express or implied.\n",
              "// See the License for the specific language governing permissions and\n",
              "// limitations under the License.\n",
              "\n",
              "/**\n",
              " * @fileoverview Helpers for google.colab Python module.\n",
              " */\n",
              "(function(scope) {\n",
              "function span(text, styleAttributes = {}) {\n",
              "  const element = document.createElement('span');\n",
              "  element.textContent = text;\n",
              "  for (const key of Object.keys(styleAttributes)) {\n",
              "    element.style[key] = styleAttributes[key];\n",
              "  }\n",
              "  return element;\n",
              "}\n",
              "\n",
              "// Max number of bytes which will be uploaded at a time.\n",
              "const MAX_PAYLOAD_SIZE = 100 * 1024;\n",
              "\n",
              "function _uploadFiles(inputId, outputId) {\n",
              "  const steps = uploadFilesStep(inputId, outputId);\n",
              "  const outputElement = document.getElementById(outputId);\n",
              "  // Cache steps on the outputElement to make it available for the next call\n",
              "  // to uploadFilesContinue from Python.\n",
              "  outputElement.steps = steps;\n",
              "\n",
              "  return _uploadFilesContinue(outputId);\n",
              "}\n",
              "\n",
              "// This is roughly an async generator (not supported in the browser yet),\n",
              "// where there are multiple asynchronous steps and the Python side is going\n",
              "// to poll for completion of each step.\n",
              "// This uses a Promise to block the python side on completion of each step,\n",
              "// then passes the result of the previous step as the input to the next step.\n",
              "function _uploadFilesContinue(outputId) {\n",
              "  const outputElement = document.getElementById(outputId);\n",
              "  const steps = outputElement.steps;\n",
              "\n",
              "  const next = steps.next(outputElement.lastPromiseValue);\n",
              "  return Promise.resolve(next.value.promise).then((value) => {\n",
              "    // Cache the last promise value to make it available to the next\n",
              "    // step of the generator.\n",
              "    outputElement.lastPromiseValue = value;\n",
              "    return next.value.response;\n",
              "  });\n",
              "}\n",
              "\n",
              "/**\n",
              " * Generator function which is called between each async step of the upload\n",
              " * process.\n",
              " * @param {string} inputId Element ID of the input file picker element.\n",
              " * @param {string} outputId Element ID of the output display.\n",
              " * @return {!Iterable<!Object>} Iterable of next steps.\n",
              " */\n",
              "function* uploadFilesStep(inputId, outputId) {\n",
              "  const inputElement = document.getElementById(inputId);\n",
              "  inputElement.disabled = false;\n",
              "\n",
              "  const outputElement = document.getElementById(outputId);\n",
              "  outputElement.innerHTML = '';\n",
              "\n",
              "  const pickedPromise = new Promise((resolve) => {\n",
              "    inputElement.addEventListener('change', (e) => {\n",
              "      resolve(e.target.files);\n",
              "    });\n",
              "  });\n",
              "\n",
              "  const cancel = document.createElement('button');\n",
              "  inputElement.parentElement.appendChild(cancel);\n",
              "  cancel.textContent = 'Cancel upload';\n",
              "  const cancelPromise = new Promise((resolve) => {\n",
              "    cancel.onclick = () => {\n",
              "      resolve(null);\n",
              "    };\n",
              "  });\n",
              "\n",
              "  // Wait for the user to pick the files.\n",
              "  const files = yield {\n",
              "    promise: Promise.race([pickedPromise, cancelPromise]),\n",
              "    response: {\n",
              "      action: 'starting',\n",
              "    }\n",
              "  };\n",
              "\n",
              "  cancel.remove();\n",
              "\n",
              "  // Disable the input element since further picks are not allowed.\n",
              "  inputElement.disabled = true;\n",
              "\n",
              "  if (!files) {\n",
              "    return {\n",
              "      response: {\n",
              "        action: 'complete',\n",
              "      }\n",
              "    };\n",
              "  }\n",
              "\n",
              "  for (const file of files) {\n",
              "    const li = document.createElement('li');\n",
              "    li.append(span(file.name, {fontWeight: 'bold'}));\n",
              "    li.append(span(\n",
              "        `(${file.type || 'n/a'}) - ${file.size} bytes, ` +\n",
              "        `last modified: ${\n",
              "            file.lastModifiedDate ? file.lastModifiedDate.toLocaleDateString() :\n",
              "                                    'n/a'} - `));\n",
              "    const percent = span('0% done');\n",
              "    li.appendChild(percent);\n",
              "\n",
              "    outputElement.appendChild(li);\n",
              "\n",
              "    const fileDataPromise = new Promise((resolve) => {\n",
              "      const reader = new FileReader();\n",
              "      reader.onload = (e) => {\n",
              "        resolve(e.target.result);\n",
              "      };\n",
              "      reader.readAsArrayBuffer(file);\n",
              "    });\n",
              "    // Wait for the data to be ready.\n",
              "    let fileData = yield {\n",
              "      promise: fileDataPromise,\n",
              "      response: {\n",
              "        action: 'continue',\n",
              "      }\n",
              "    };\n",
              "\n",
              "    // Use a chunked sending to avoid message size limits. See b/62115660.\n",
              "    let position = 0;\n",
              "    do {\n",
              "      const length = Math.min(fileData.byteLength - position, MAX_PAYLOAD_SIZE);\n",
              "      const chunk = new Uint8Array(fileData, position, length);\n",
              "      position += length;\n",
              "\n",
              "      const base64 = btoa(String.fromCharCode.apply(null, chunk));\n",
              "      yield {\n",
              "        response: {\n",
              "          action: 'append',\n",
              "          file: file.name,\n",
              "          data: base64,\n",
              "        },\n",
              "      };\n",
              "\n",
              "      let percentDone = fileData.byteLength === 0 ?\n",
              "          100 :\n",
              "          Math.round((position / fileData.byteLength) * 100);\n",
              "      percent.textContent = `${percentDone}% done`;\n",
              "\n",
              "    } while (position < fileData.byteLength);\n",
              "  }\n",
              "\n",
              "  // All done.\n",
              "  yield {\n",
              "    response: {\n",
              "      action: 'complete',\n",
              "    }\n",
              "  };\n",
              "}\n",
              "\n",
              "scope.google = scope.google || {};\n",
              "scope.google.colab = scope.google.colab || {};\n",
              "scope.google.colab._files = {\n",
              "  _uploadFiles,\n",
              "  _uploadFilesContinue,\n",
              "};\n",
              "})(self);\n",
              "</script> "
            ]
          },
          "metadata": {}
        }
      ],
      "source": [
        "from google.colab import files\n",
        "uploaded = files.upload()\n"
      ]
    },
    {
      "cell_type": "code",
      "source": [
        "import pandas as pd\n",
        "\n",
        "train_df = pd.read_csv(\"train.csv\")\n",
        "test_df = pd.read_csv(\"testFeatures.csv\")\n"
      ],
      "metadata": {
        "id": "UwW4GyUqFnqR"
      },
      "execution_count": null,
      "outputs": []
    },
    {
      "cell_type": "code",
      "source": [
        "import numpy as np\n",
        "\n",
        "# --- Eksik değer temizliği ---\n",
        "cat_cols = [\"ürün\", \"ürün kategorisi\", \"ürün üretim yeri\", \"market\", \"şehir\"]\n",
        "for col in cat_cols:\n",
        "    train_df[col] = train_df[col].fillna(\"Eksik\")\n",
        "    test_df[col] = test_df[col].fillna(\"Eksik\")\n",
        "\n",
        "num_cols = [\"ürün besin değeri\"]\n",
        "for col in num_cols:\n",
        "    med = train_df[col].median()\n",
        "    train_df[col] = train_df[col].fillna(med)\n",
        "    test_df[col] = test_df[col].fillna(med)\n",
        "\n",
        "# --- Tarihsel Özellikler ve Dönüşümler ---\n",
        "for df in [train_df, test_df]:\n",
        "    df[\"tarih\"] = pd.to_datetime(df[\"tarih\"])\n",
        "    df[\"yıl\"] = df[\"tarih\"].dt.year\n",
        "    df[\"ay\"] = df[\"tarih\"].dt.month\n",
        "    df[\"hafta\"] = df[\"tarih\"].dt.isocalendar().week\n",
        "    df[\"haftaici\"] = df[\"tarih\"].dt.weekday\n",
        "    df[\"haftasonu\"] = df[\"haftaici\"].isin([5, 6]).astype(int)\n",
        "    df[\"mevsim\"] = df[\"ay\"] % 12 // 3 + 1\n",
        "    df[\"ürün_şehir\"] = df[\"ürün\"].astype(str) + \"_\" + df[\"şehir\"].astype(str)\n",
        "    df[\"ürün_kategori\"] = df[\"ürün\"].astype(str) + \"_\" + df[\"ürün kategorisi\"].astype(str)\n",
        "    df[\"şehir_market\"] = df[\"şehir\"].astype(str) + \"_\" + df[\"market\"].astype(str)\n",
        "\n",
        "# --- Frekans Özelliği ---\n",
        "ürün_freq = train_df[\"ürün\"].value_counts().to_dict()\n",
        "train_df[\"ürün_freq\"] = train_df[\"ürün\"].map(ürün_freq)\n",
        "test_df[\"ürün_freq\"] = test_df[\"ürün\"].map(ürün_freq)\n",
        "\n",
        "# --- Log Dönüşümü ---\n",
        "train_df[\"ürün besin değeri\"] = np.log1p(train_df[\"ürün besin değeri\"])\n",
        "test_df[\"ürün besin değeri\"] = np.log1p(test_df[\"ürün besin değeri\"])\n"
      ],
      "metadata": {
        "id": "DvkMHXQKJmAF"
      },
      "execution_count": null,
      "outputs": []
    },
    {
      "cell_type": "code",
      "source": [
        "from sklearn.preprocessing import LabelEncoder\n",
        "\n",
        "label_cols = [\n",
        "    \"ürün\", \"ürün kategorisi\", \"ürün üretim yeri\", \"market\", \"şehir\",\n",
        "    \"ürün_şehir\", \"ürün_kategori\", \"şehir_market\"\n",
        "]\n",
        "\n",
        "for col in label_cols:\n",
        "    le = LabelEncoder()\n",
        "    all_vals = pd.concat([train_df[col], test_df[col]]).astype(str)\n",
        "    le.fit(all_vals)\n",
        "    train_df[col] = le.transform(train_df[col].astype(str))\n",
        "    test_df[col] = le.transform(test_df[col].astype(str))\n"
      ],
      "metadata": {
        "id": "fuYGrClsLqGk"
      },
      "execution_count": null,
      "outputs": []
    },
    {
      "cell_type": "code",
      "source": [
        "for df in [train_df, test_df]:\n",
        "    df[\"tarih\"] = pd.to_datetime(df[\"tarih\"])\n",
        "    df[\"yıl\"] = df[\"tarih\"].dt.year\n",
        "    df[\"ay\"] = df[\"tarih\"].dt.month\n",
        "    df[\"hafta\"] = df[\"tarih\"].dt.isocalendar().week\n",
        "    df[\"mevsim\"] = df[\"ay\"] % 12 // 3 + 1\n",
        "    df[\"ürün_şehir\"] = df[\"ürün\"].astype(str) + \"_\" + df[\"şehir\"].astype(str)\n",
        "\n"
      ],
      "metadata": {
        "id": "3Z9BJfOtFpl9"
      },
      "execution_count": null,
      "outputs": []
    },
    {
      "cell_type": "code",
      "source": [
        "from sklearn.preprocessing import LabelEncoder\n",
        "\n",
        "label_cols = [\"ürün\", \"ürün kategorisi\", \"ürün üretim yeri\", \"market\", \"şehir\", \"ürün_şehir\"]\n",
        "\n",
        "for col in label_cols:\n",
        "    le = LabelEncoder()\n",
        "    all_vals = pd.concat([train_df[col], test_df[col]]).astype(str)\n",
        "    le.fit(all_vals)\n",
        "    train_df[col] = le.transform(train_df[col].astype(str))\n",
        "    test_df[col] = le.transform(test_df[col].astype(str))\n"
      ],
      "metadata": {
        "id": "rxE99WuEFrkx"
      },
      "execution_count": null,
      "outputs": []
    },
    {
      "cell_type": "code",
      "source": [
        "# Özellik ve hedef ayır\n",
        "X = train_df.drop(columns=[\"tarih\", \"ürün fiyatı\"])\n",
        "y = train_df[\"ürün fiyatı\"]\n"
      ],
      "metadata": {
        "id": "lbZbG9Q-M45o"
      },
      "execution_count": null,
      "outputs": []
    },
    {
      "cell_type": "code",
      "source": [
        "!pip install optuna --quiet\n",
        "import optuna\n",
        "from sklearn.model_selection import cross_val_score\n",
        "from sklearn.metrics import mean_squared_error, make_scorer\n",
        "import lightgbm as lgb\n",
        "\n",
        "# RMSE hesaplayıcı\n",
        "def rmse(y_true, y_pred):\n",
        "    return np.sqrt(mean_squared_error(y_true, y_pred))\n",
        "\n",
        "# Optuna hedef fonksiyonu\n",
        "def objective(trial):\n",
        "    params = {\n",
        "        \"objective\": \"regression\",\n",
        "        \"metric\": \"rmse\",\n",
        "        \"boosting_type\": \"gbdt\",\n",
        "        \"random_state\": 42,\n",
        "        \"verbosity\": -1,\n",
        "        \"learning_rate\": trial.suggest_float(\"learning_rate\", 0.01, 0.3),\n",
        "        \"max_depth\": trial.suggest_int(\"max_depth\", 3, 12),\n",
        "        \"num_leaves\": trial.suggest_int(\"num_leaves\", 20, 200),\n",
        "        \"subsample\": trial.suggest_float(\"subsample\", 0.5, 1.0),\n",
        "        \"colsample_bytree\": trial.suggest_float(\"colsample_bytree\", 0.5, 1.0),\n",
        "    }\n",
        "\n",
        "    model = lgb.LGBMRegressor(**params)\n",
        "    scores = cross_val_score(model, X, y, cv=3, scoring=make_scorer(rmse, greater_is_better=False))\n",
        "    return -np.mean(scores)\n",
        "\n",
        "# Optuna araması başlat\n",
        "study = optuna.create_study(direction=\"minimize\")\n",
        "study.optimize(objective, n_trials=50)\n",
        "\n",
        "# En iyi parametreleri al\n",
        "best_params = study.best_params\n",
        "best_params[\"random_state\"] = 42\n"
      ],
      "metadata": {
        "colab": {
          "base_uri": "https://localhost:8080/"
        },
        "id": "Bs5-RiLXM9Hs",
        "outputId": "461be33c-419d-4fc7-cb42-c93e2f3e9731"
      },
      "execution_count": null,
      "outputs": [
        {
          "output_type": "stream",
          "name": "stderr",
          "text": [
            "[I 2025-05-05 21:05:24,592] A new study created in memory with name: no-name-c5e3db11-128c-404e-8b35-b818e00f384d\n",
            "[I 2025-05-05 21:05:31,164] Trial 0 finished with value: 5.600727980241846 and parameters: {'learning_rate': 0.23919345214646917, 'max_depth': 9, 'num_leaves': 70, 'subsample': 0.9958655875114446, 'colsample_bytree': 0.9815298106012842}. Best is trial 0 with value: 5.600727980241846.\n",
            "[I 2025-05-05 21:05:35,972] Trial 1 finished with value: 5.84059923878602 and parameters: {'learning_rate': 0.17788310538425808, 'max_depth': 11, 'num_leaves': 22, 'subsample': 0.7648285776542907, 'colsample_bytree': 0.6858171744618093}. Best is trial 0 with value: 5.600727980241846.\n",
            "[I 2025-05-05 21:05:41,291] Trial 2 finished with value: 6.801768311043638 and parameters: {'learning_rate': 0.16194491386431728, 'max_depth': 3, 'num_leaves': 139, 'subsample': 0.6477961020825846, 'colsample_bytree': 0.7840839371564658}. Best is trial 0 with value: 5.600727980241846.\n",
            "[I 2025-05-05 21:05:49,030] Trial 3 finished with value: 5.550038502183295 and parameters: {'learning_rate': 0.15877027377793618, 'max_depth': 7, 'num_leaves': 188, 'subsample': 0.6422866987896241, 'colsample_bytree': 0.7221959701889622}. Best is trial 3 with value: 5.550038502183295.\n",
            "[I 2025-05-05 21:05:53,594] Trial 4 finished with value: 6.516727928296185 and parameters: {'learning_rate': 0.17080415653398529, 'max_depth': 3, 'num_leaves': 145, 'subsample': 0.9914283458232506, 'colsample_bytree': 0.7000026988777536}. Best is trial 3 with value: 5.550038502183295.\n",
            "[I 2025-05-05 21:06:01,246] Trial 5 finished with value: 6.2025517176378635 and parameters: {'learning_rate': 0.033138756864710926, 'max_depth': 7, 'num_leaves': 166, 'subsample': 0.8479828365810862, 'colsample_bytree': 0.8113727320187709}. Best is trial 3 with value: 5.550038502183295.\n",
            "[I 2025-05-05 21:06:09,844] Trial 6 finished with value: 5.549498383349117 and parameters: {'learning_rate': 0.07674609141509456, 'max_depth': 8, 'num_leaves': 125, 'subsample': 0.7404154505422144, 'colsample_bytree': 0.8233779554384503}. Best is trial 6 with value: 5.549498383349117.\n",
            "[I 2025-05-05 21:06:18,255] Trial 7 finished with value: 5.623197673973478 and parameters: {'learning_rate': 0.1316282045399402, 'max_depth': 9, 'num_leaves': 184, 'subsample': 0.7380113718915182, 'colsample_bytree': 0.7748959910944124}. Best is trial 6 with value: 5.549498383349117.\n",
            "[I 2025-05-05 21:06:24,265] Trial 8 finished with value: 6.258919714585766 and parameters: {'learning_rate': 0.055596069590055704, 'max_depth': 6, 'num_leaves': 27, 'subsample': 0.5290303088945062, 'colsample_bytree': 0.8582046149263687}. Best is trial 6 with value: 5.549498383349117.\n",
            "[I 2025-05-05 21:06:30,086] Trial 9 finished with value: 6.789229079308683 and parameters: {'learning_rate': 0.24958481593694037, 'max_depth': 8, 'num_leaves': 82, 'subsample': 0.8018910722984876, 'colsample_bytree': 0.5389221889519853}. Best is trial 6 with value: 5.549498383349117.\n",
            "[I 2025-05-05 21:06:38,444] Trial 10 finished with value: 5.618368116843388 and parameters: {'learning_rate': 0.08975650764253983, 'max_depth': 12, 'num_leaves': 105, 'subsample': 0.873314685530447, 'colsample_bytree': 0.9318173954205513}. Best is trial 6 with value: 5.549498383349117.\n",
            "[I 2025-05-05 21:06:44,376] Trial 11 finished with value: 5.874110538206248 and parameters: {'learning_rate': 0.09951894990985906, 'max_depth': 5, 'num_leaves': 200, 'subsample': 0.6248059269867268, 'colsample_bytree': 0.6345896200212953}. Best is trial 6 with value: 5.549498383349117.\n",
            "[I 2025-05-05 21:06:50,070] Trial 12 finished with value: 9.971641644824016 and parameters: {'learning_rate': 0.012092902495236507, 'max_depth': 5, 'num_leaves': 127, 'subsample': 0.6591585899305175, 'colsample_bytree': 0.8834882113652206}. Best is trial 6 with value: 5.549498383349117.\n",
            "[I 2025-05-05 21:06:58,127] Trial 13 finished with value: 6.916486075722308 and parameters: {'learning_rate': 0.21170616512712026, 'max_depth': 10, 'num_leaves': 160, 'subsample': 0.5400833747436613, 'colsample_bytree': 0.5823204696434475}. Best is trial 6 with value: 5.549498383349117.\n",
            "[I 2025-05-05 21:07:05,123] Trial 14 finished with value: 5.553703724260504 and parameters: {'learning_rate': 0.0922690104322566, 'max_depth': 7, 'num_leaves': 106, 'subsample': 0.7075506140574298, 'colsample_bytree': 0.7295987671613221}. Best is trial 6 with value: 5.549498383349117.\n",
            "[I 2025-05-05 21:07:12,517] Trial 15 finished with value: 5.525382092075162 and parameters: {'learning_rate': 0.1274121816205668, 'max_depth': 8, 'num_leaves': 66, 'subsample': 0.5778200238915763, 'colsample_bytree': 0.8500724668602235}. Best is trial 15 with value: 5.525382092075162.\n",
            "[I 2025-05-05 21:07:19,058] Trial 16 finished with value: 5.478818576860604 and parameters: {'learning_rate': 0.1203407143487488, 'max_depth': 9, 'num_leaves': 65, 'subsample': 0.5856023673309985, 'colsample_bytree': 0.852005824807714}. Best is trial 16 with value: 5.478818576860604.\n",
            "[I 2025-05-05 21:07:25,109] Trial 17 finished with value: 5.585228740873487 and parameters: {'learning_rate': 0.29511017195802913, 'max_depth': 10, 'num_leaves': 54, 'subsample': 0.5811477354104075, 'colsample_bytree': 0.9350539101447025}. Best is trial 16 with value: 5.478818576860604.\n",
            "[I 2025-05-05 21:07:31,250] Trial 18 finished with value: 5.472804238055268 and parameters: {'learning_rate': 0.13713961040968345, 'max_depth': 9, 'num_leaves': 55, 'subsample': 0.576109421671692, 'colsample_bytree': 0.8735355940389049}. Best is trial 18 with value: 5.472804238055268.\n",
            "[I 2025-05-05 21:07:38,576] Trial 19 finished with value: 5.546027325257717 and parameters: {'learning_rate': 0.1282414309591943, 'max_depth': 12, 'num_leaves': 46, 'subsample': 0.5022684869271513, 'colsample_bytree': 0.914440568639754}. Best is trial 18 with value: 5.472804238055268.\n",
            "[I 2025-05-05 21:07:44,458] Trial 20 finished with value: 5.643452095805428 and parameters: {'learning_rate': 0.20769050643374903, 'max_depth': 10, 'num_leaves': 83, 'subsample': 0.589620373531417, 'colsample_bytree': 0.9928021310422961}. Best is trial 18 with value: 5.472804238055268.\n",
            "[I 2025-05-05 21:07:51,605] Trial 21 finished with value: 5.538366559028231 and parameters: {'learning_rate': 0.12918531683238066, 'max_depth': 9, 'num_leaves': 53, 'subsample': 0.5755151855342798, 'colsample_bytree': 0.8521098508903558}. Best is trial 18 with value: 5.472804238055268.\n",
            "[I 2025-05-05 21:07:58,338] Trial 22 finished with value: 5.4686467771588285 and parameters: {'learning_rate': 0.11764171464780845, 'max_depth': 8, 'num_leaves': 72, 'subsample': 0.6868197603555852, 'colsample_bytree': 0.8885562504104092}. Best is trial 22 with value: 5.4686467771588285.\n",
            "[I 2025-05-05 21:08:06,317] Trial 23 finished with value: 5.456920206727218 and parameters: {'learning_rate': 0.11138632388287882, 'max_depth': 9, 'num_leaves': 89, 'subsample': 0.7002844147642744, 'colsample_bytree': 0.8862880797614677}. Best is trial 23 with value: 5.456920206727218.\n",
            "[I 2025-05-05 21:08:15,006] Trial 24 finished with value: 5.67670316084677 and parameters: {'learning_rate': 0.07279230426578154, 'max_depth': 11, 'num_leaves': 94, 'subsample': 0.6804701290976672, 'colsample_bytree': 0.9076375555132669}. Best is trial 23 with value: 5.456920206727218.\n",
            "[I 2025-05-05 21:08:20,721] Trial 25 finished with value: 5.758204406295509 and parameters: {'learning_rate': 0.10809778862383955, 'max_depth': 6, 'num_leaves': 34, 'subsample': 0.6999000706618357, 'colsample_bytree': 0.9666527246733584}. Best is trial 23 with value: 5.456920206727218.\n",
            "[I 2025-05-05 21:08:27,496] Trial 26 finished with value: 5.6804187205449255 and parameters: {'learning_rate': 0.19444735937548405, 'max_depth': 11, 'num_leaves': 77, 'subsample': 0.790468924008673, 'colsample_bytree': 0.8907318011709322}. Best is trial 23 with value: 5.456920206727218.\n",
            "[I 2025-05-05 21:08:34,334] Trial 27 finished with value: 5.472677507844199 and parameters: {'learning_rate': 0.14765798552730194, 'max_depth': 8, 'num_leaves': 93, 'subsample': 0.8335042924998128, 'colsample_bytree': 0.9570220135238593}. Best is trial 23 with value: 5.456920206727218.\n",
            "[I 2025-05-05 21:08:41,496] Trial 28 finished with value: 6.138002233142625 and parameters: {'learning_rate': 0.051145940704383136, 'max_depth': 6, 'num_leaves': 95, 'subsample': 0.9192993740395792, 'colsample_bytree': 0.9518331327407742}. Best is trial 23 with value: 5.456920206727218.\n",
            "[I 2025-05-05 21:08:48,496] Trial 29 finished with value: 5.656972411512288 and parameters: {'learning_rate': 0.2453800321804968, 'max_depth': 8, 'num_leaves': 121, 'subsample': 0.829164908440279, 'colsample_bytree': 0.9915254635512608}. Best is trial 23 with value: 5.456920206727218.\n",
            "[I 2025-05-05 21:08:56,069] Trial 30 finished with value: 5.532692765596892 and parameters: {'learning_rate': 0.15001413040068445, 'max_depth': 10, 'num_leaves': 97, 'subsample': 0.9234602484009796, 'colsample_bytree': 0.8040567936789084}. Best is trial 23 with value: 5.456920206727218.\n",
            "[I 2025-05-05 21:09:01,936] Trial 31 finished with value: 5.578722242220596 and parameters: {'learning_rate': 0.14077793719147985, 'max_depth': 9, 'num_leaves': 42, 'subsample': 0.7112265219828541, 'colsample_bytree': 0.9601107045169687}. Best is trial 23 with value: 5.456920206727218.\n",
            "[I 2025-05-05 21:09:08,971] Trial 32 finished with value: 5.529653511167069 and parameters: {'learning_rate': 0.18136562098647196, 'max_depth': 8, 'num_leaves': 67, 'subsample': 0.7769863170034885, 'colsample_bytree': 0.8857039770511869}. Best is trial 23 with value: 5.456920206727218.\n",
            "[I 2025-05-05 21:09:16,057] Trial 33 finished with value: 5.541536855884764 and parameters: {'learning_rate': 0.11096968086262635, 'max_depth': 9, 'num_leaves': 78, 'subsample': 0.6189076909604246, 'colsample_bytree': 0.7664087684277671}. Best is trial 23 with value: 5.456920206727218.\n",
            "[I 2025-05-05 21:09:23,036] Trial 34 finished with value: 5.535256297723609 and parameters: {'learning_rate': 0.1501403578925217, 'max_depth': 7, 'num_leaves': 57, 'subsample': 0.7486640810432207, 'colsample_bytree': 0.923480312101214}. Best is trial 23 with value: 5.456920206727218.\n",
            "[I 2025-05-05 21:09:30,221] Trial 35 finished with value: 5.609901547425039 and parameters: {'learning_rate': 0.1645561781965102, 'max_depth': 9, 'num_leaves': 87, 'subsample': 0.6760861657034511, 'colsample_bytree': 0.827219701076536}. Best is trial 23 with value: 5.456920206727218.\n",
            "[I 2025-05-05 21:09:36,849] Trial 36 finished with value: 5.5502082249833435 and parameters: {'learning_rate': 0.18514521239518827, 'max_depth': 10, 'num_leaves': 117, 'subsample': 0.8648218434042695, 'colsample_bytree': 0.8870042271057732}. Best is trial 23 with value: 5.456920206727218.\n",
            "[I 2025-05-05 21:09:45,054] Trial 37 finished with value: 5.52302122278424 and parameters: {'learning_rate': 0.07532473057775503, 'max_depth': 7, 'num_leaves': 137, 'subsample': 0.8224049944186432, 'colsample_bytree': 0.658215389616377}. Best is trial 23 with value: 5.456920206727218.\n",
            "[I 2025-05-05 21:09:51,279] Trial 38 finished with value: 5.587325476266646 and parameters: {'learning_rate': 0.14340246212508256, 'max_depth': 11, 'num_leaves': 74, 'subsample': 0.7283397760300717, 'colsample_bytree': 0.9535218882603343}. Best is trial 23 with value: 5.456920206727218.\n",
            "[I 2025-05-05 21:09:59,599] Trial 39 finished with value: 5.46565306682692 and parameters: {'learning_rate': 0.11195328761404183, 'max_depth': 8, 'num_leaves': 111, 'subsample': 0.6195401115977243, 'colsample_bytree': 0.8031423176869129}. Best is trial 23 with value: 5.456920206727218.\n",
            "[I 2025-05-05 21:10:07,197] Trial 40 finished with value: 5.537152159507808 and parameters: {'learning_rate': 0.10626355323192822, 'max_depth': 8, 'num_leaves': 111, 'subsample': 0.6357075772542782, 'colsample_bytree': 0.7975347623691288}. Best is trial 23 with value: 5.456920206727218.\n",
            "[I 2025-05-05 21:10:14,605] Trial 41 finished with value: 5.578745048090993 and parameters: {'learning_rate': 0.15972127540106715, 'max_depth': 8, 'num_leaves': 92, 'subsample': 0.6098666181848019, 'colsample_bytree': 0.8295611480660321}. Best is trial 23 with value: 5.456920206727218.\n",
            "[I 2025-05-05 21:10:22,447] Trial 42 finished with value: 5.599554945550267 and parameters: {'learning_rate': 0.11564873373219636, 'max_depth': 7, 'num_leaves': 102, 'subsample': 0.65983397624228, 'colsample_bytree': 0.869065933429811}. Best is trial 23 with value: 5.456920206727218.\n",
            "[I 2025-05-05 21:10:30,247] Trial 43 finished with value: 5.7746317360565484 and parameters: {'learning_rate': 0.08601060271886153, 'max_depth': 9, 'num_leaves': 132, 'subsample': 0.5409539946920252, 'colsample_bytree': 0.759609406492483}. Best is trial 23 with value: 5.456920206727218.\n",
            "[I 2025-05-05 21:10:36,424] Trial 44 finished with value: 5.755839716491852 and parameters: {'learning_rate': 0.13824778384087177, 'max_depth': 8, 'num_leaves': 23, 'subsample': 0.7678639412422422, 'colsample_bytree': 0.9044030676343577}. Best is trial 23 with value: 5.456920206727218.\n",
            "[I 2025-05-05 21:10:44,186] Trial 45 finished with value: 5.632212377574926 and parameters: {'learning_rate': 0.05882341010006657, 'max_depth': 9, 'num_leaves': 114, 'subsample': 0.6714908247670638, 'colsample_bytree': 0.7872588246546843}. Best is trial 23 with value: 5.456920206727218.\n",
            "[I 2025-05-05 21:10:51,744] Trial 46 finished with value: 5.500817180983025 and parameters: {'learning_rate': 0.0922922888470968, 'max_depth': 7, 'num_leaves': 60, 'subsample': 0.9099952210800338, 'colsample_bytree': 0.7309332682492237}. Best is trial 23 with value: 5.456920206727218.\n",
            "[I 2025-05-05 21:10:57,064] Trial 47 finished with value: 5.638957079857589 and parameters: {'learning_rate': 0.16898857800797465, 'max_depth': 5, 'num_leaves': 149, 'subsample': 0.638909948000801, 'colsample_bytree': 0.8290581927154465}. Best is trial 23 with value: 5.456920206727218.\n",
            "[I 2025-05-05 21:11:03,914] Trial 48 finished with value: 5.557342517872921 and parameters: {'learning_rate': 0.11784503280798281, 'max_depth': 6, 'num_leaves': 86, 'subsample': 0.9662123184050799, 'colsample_bytree': 0.8694382145226974}. Best is trial 23 with value: 5.456920206727218.\n",
            "[I 2025-05-05 21:11:11,133] Trial 49 finished with value: 5.558817829199104 and parameters: {'learning_rate': 0.09890847404810213, 'max_depth': 8, 'num_leaves': 72, 'subsample': 0.605283501714087, 'colsample_bytree': 0.9357491356765765}. Best is trial 23 with value: 5.456920206727218.\n"
          ]
        }
      ]
    },
    {
      "cell_type": "code",
      "source": [
        "!pip install optuna --upgrade --quiet\n",
        "\n",
        "\n",
        "import optuna.visualization as vis\n",
        "vis.plot_param_importances(study)\n"
      ],
      "metadata": {
        "colab": {
          "base_uri": "https://localhost:8080/"
        },
        "id": "WuJJhiRgQqvx",
        "outputId": "8ce89784-3b8f-4be0-abb5-502f78b01783"
      },
      "execution_count": null,
      "outputs": [
        {
          "output_type": "display_data",
          "data": {
            "text/html": [
              "<html>\n",
              "<head><meta charset=\"utf-8\" /></head>\n",
              "<body>\n",
              "    <div>            <script src=\"https://cdnjs.cloudflare.com/ajax/libs/mathjax/2.7.5/MathJax.js?config=TeX-AMS-MML_SVG\"></script><script type=\"text/javascript\">if (window.MathJax && window.MathJax.Hub && window.MathJax.Hub.Config) {window.MathJax.Hub.Config({SVG: {font: \"STIX-Web\"}});}</script>                <script type=\"text/javascript\">window.PlotlyConfig = {MathJaxConfig: 'local'};</script>\n",
              "        <script charset=\"utf-8\" src=\"https://cdn.plot.ly/plotly-2.35.2.min.js\"></script>                <div id=\"bdc67d32-eeee-45c6-baed-3cc367a67214\" class=\"plotly-graph-div\" style=\"height:525px; width:100%;\"></div>            <script type=\"text/javascript\">                                    window.PLOTLYENV=window.PLOTLYENV || {};                                    if (document.getElementById(\"bdc67d32-eeee-45c6-baed-3cc367a67214\")) {                    Plotly.newPlot(                        \"bdc67d32-eeee-45c6-baed-3cc367a67214\",                        [{\"cliponaxis\":false,\"hovertemplate\":[\"subsample (FloatDistribution): 0.007467441141086871\\u003cextra\\u003e\\u003c\\u002fextra\\u003e\",\"num_leaves (IntDistribution): 0.02883966314435763\\u003cextra\\u003e\\u003c\\u002fextra\\u003e\",\"max_depth (IntDistribution): 0.10174759334136427\\u003cextra\\u003e\\u003c\\u002fextra\\u003e\",\"colsample_bytree (FloatDistribution): 0.20844034908221526\\u003cextra\\u003e\\u003c\\u002fextra\\u003e\",\"learning_rate (FloatDistribution): 0.653504953290976\\u003cextra\\u003e\\u003c\\u002fextra\\u003e\"],\"name\":\"Objective Value\",\"orientation\":\"h\",\"text\":[\"\\u003c0.01\",\"0.03\",\"0.10\",\"0.21\",\"0.65\"],\"textposition\":\"outside\",\"x\":[0.007467441141086871,0.02883966314435763,0.10174759334136427,0.20844034908221526,0.653504953290976],\"y\":[\"subsample\",\"num_leaves\",\"max_depth\",\"colsample_bytree\",\"learning_rate\"],\"type\":\"bar\"}],                        {\"title\":{\"text\":\"Hyperparameter Importances\"},\"xaxis\":{\"title\":{\"text\":\"Hyperparameter Importance\"}},\"yaxis\":{\"title\":{\"text\":\"Hyperparameter\"}},\"template\":{\"data\":{\"histogram2dcontour\":[{\"type\":\"histogram2dcontour\",\"colorbar\":{\"outlinewidth\":0,\"ticks\":\"\"},\"colorscale\":[[0.0,\"#0d0887\"],[0.1111111111111111,\"#46039f\"],[0.2222222222222222,\"#7201a8\"],[0.3333333333333333,\"#9c179e\"],[0.4444444444444444,\"#bd3786\"],[0.5555555555555556,\"#d8576b\"],[0.6666666666666666,\"#ed7953\"],[0.7777777777777778,\"#fb9f3a\"],[0.8888888888888888,\"#fdca26\"],[1.0,\"#f0f921\"]]}],\"choropleth\":[{\"type\":\"choropleth\",\"colorbar\":{\"outlinewidth\":0,\"ticks\":\"\"}}],\"histogram2d\":[{\"type\":\"histogram2d\",\"colorbar\":{\"outlinewidth\":0,\"ticks\":\"\"},\"colorscale\":[[0.0,\"#0d0887\"],[0.1111111111111111,\"#46039f\"],[0.2222222222222222,\"#7201a8\"],[0.3333333333333333,\"#9c179e\"],[0.4444444444444444,\"#bd3786\"],[0.5555555555555556,\"#d8576b\"],[0.6666666666666666,\"#ed7953\"],[0.7777777777777778,\"#fb9f3a\"],[0.8888888888888888,\"#fdca26\"],[1.0,\"#f0f921\"]]}],\"heatmap\":[{\"type\":\"heatmap\",\"colorbar\":{\"outlinewidth\":0,\"ticks\":\"\"},\"colorscale\":[[0.0,\"#0d0887\"],[0.1111111111111111,\"#46039f\"],[0.2222222222222222,\"#7201a8\"],[0.3333333333333333,\"#9c179e\"],[0.4444444444444444,\"#bd3786\"],[0.5555555555555556,\"#d8576b\"],[0.6666666666666666,\"#ed7953\"],[0.7777777777777778,\"#fb9f3a\"],[0.8888888888888888,\"#fdca26\"],[1.0,\"#f0f921\"]]}],\"heatmapgl\":[{\"type\":\"heatmapgl\",\"colorbar\":{\"outlinewidth\":0,\"ticks\":\"\"},\"colorscale\":[[0.0,\"#0d0887\"],[0.1111111111111111,\"#46039f\"],[0.2222222222222222,\"#7201a8\"],[0.3333333333333333,\"#9c179e\"],[0.4444444444444444,\"#bd3786\"],[0.5555555555555556,\"#d8576b\"],[0.6666666666666666,\"#ed7953\"],[0.7777777777777778,\"#fb9f3a\"],[0.8888888888888888,\"#fdca26\"],[1.0,\"#f0f921\"]]}],\"contourcarpet\":[{\"type\":\"contourcarpet\",\"colorbar\":{\"outlinewidth\":0,\"ticks\":\"\"}}],\"contour\":[{\"type\":\"contour\",\"colorbar\":{\"outlinewidth\":0,\"ticks\":\"\"},\"colorscale\":[[0.0,\"#0d0887\"],[0.1111111111111111,\"#46039f\"],[0.2222222222222222,\"#7201a8\"],[0.3333333333333333,\"#9c179e\"],[0.4444444444444444,\"#bd3786\"],[0.5555555555555556,\"#d8576b\"],[0.6666666666666666,\"#ed7953\"],[0.7777777777777778,\"#fb9f3a\"],[0.8888888888888888,\"#fdca26\"],[1.0,\"#f0f921\"]]}],\"surface\":[{\"type\":\"surface\",\"colorbar\":{\"outlinewidth\":0,\"ticks\":\"\"},\"colorscale\":[[0.0,\"#0d0887\"],[0.1111111111111111,\"#46039f\"],[0.2222222222222222,\"#7201a8\"],[0.3333333333333333,\"#9c179e\"],[0.4444444444444444,\"#bd3786\"],[0.5555555555555556,\"#d8576b\"],[0.6666666666666666,\"#ed7953\"],[0.7777777777777778,\"#fb9f3a\"],[0.8888888888888888,\"#fdca26\"],[1.0,\"#f0f921\"]]}],\"mesh3d\":[{\"type\":\"mesh3d\",\"colorbar\":{\"outlinewidth\":0,\"ticks\":\"\"}}],\"scatter\":[{\"fillpattern\":{\"fillmode\":\"overlay\",\"size\":10,\"solidity\":0.2},\"type\":\"scatter\"}],\"parcoords\":[{\"type\":\"parcoords\",\"line\":{\"colorbar\":{\"outlinewidth\":0,\"ticks\":\"\"}}}],\"scatterpolargl\":[{\"type\":\"scatterpolargl\",\"marker\":{\"colorbar\":{\"outlinewidth\":0,\"ticks\":\"\"}}}],\"bar\":[{\"error_x\":{\"color\":\"#2a3f5f\"},\"error_y\":{\"color\":\"#2a3f5f\"},\"marker\":{\"line\":{\"color\":\"#E5ECF6\",\"width\":0.5},\"pattern\":{\"fillmode\":\"overlay\",\"size\":10,\"solidity\":0.2}},\"type\":\"bar\"}],\"scattergeo\":[{\"type\":\"scattergeo\",\"marker\":{\"colorbar\":{\"outlinewidth\":0,\"ticks\":\"\"}}}],\"scatterpolar\":[{\"type\":\"scatterpolar\",\"marker\":{\"colorbar\":{\"outlinewidth\":0,\"ticks\":\"\"}}}],\"histogram\":[{\"marker\":{\"pattern\":{\"fillmode\":\"overlay\",\"size\":10,\"solidity\":0.2}},\"type\":\"histogram\"}],\"scattergl\":[{\"type\":\"scattergl\",\"marker\":{\"colorbar\":{\"outlinewidth\":0,\"ticks\":\"\"}}}],\"scatter3d\":[{\"type\":\"scatter3d\",\"line\":{\"colorbar\":{\"outlinewidth\":0,\"ticks\":\"\"}},\"marker\":{\"colorbar\":{\"outlinewidth\":0,\"ticks\":\"\"}}}],\"scattermapbox\":[{\"type\":\"scattermapbox\",\"marker\":{\"colorbar\":{\"outlinewidth\":0,\"ticks\":\"\"}}}],\"scatterternary\":[{\"type\":\"scatterternary\",\"marker\":{\"colorbar\":{\"outlinewidth\":0,\"ticks\":\"\"}}}],\"scattercarpet\":[{\"type\":\"scattercarpet\",\"marker\":{\"colorbar\":{\"outlinewidth\":0,\"ticks\":\"\"}}}],\"carpet\":[{\"aaxis\":{\"endlinecolor\":\"#2a3f5f\",\"gridcolor\":\"white\",\"linecolor\":\"white\",\"minorgridcolor\":\"white\",\"startlinecolor\":\"#2a3f5f\"},\"baxis\":{\"endlinecolor\":\"#2a3f5f\",\"gridcolor\":\"white\",\"linecolor\":\"white\",\"minorgridcolor\":\"white\",\"startlinecolor\":\"#2a3f5f\"},\"type\":\"carpet\"}],\"table\":[{\"cells\":{\"fill\":{\"color\":\"#EBF0F8\"},\"line\":{\"color\":\"white\"}},\"header\":{\"fill\":{\"color\":\"#C8D4E3\"},\"line\":{\"color\":\"white\"}},\"type\":\"table\"}],\"barpolar\":[{\"marker\":{\"line\":{\"color\":\"#E5ECF6\",\"width\":0.5},\"pattern\":{\"fillmode\":\"overlay\",\"size\":10,\"solidity\":0.2}},\"type\":\"barpolar\"}],\"pie\":[{\"automargin\":true,\"type\":\"pie\"}]},\"layout\":{\"autotypenumbers\":\"strict\",\"colorway\":[\"#636efa\",\"#EF553B\",\"#00cc96\",\"#ab63fa\",\"#FFA15A\",\"#19d3f3\",\"#FF6692\",\"#B6E880\",\"#FF97FF\",\"#FECB52\"],\"font\":{\"color\":\"#2a3f5f\"},\"hovermode\":\"closest\",\"hoverlabel\":{\"align\":\"left\"},\"paper_bgcolor\":\"white\",\"plot_bgcolor\":\"#E5ECF6\",\"polar\":{\"bgcolor\":\"#E5ECF6\",\"angularaxis\":{\"gridcolor\":\"white\",\"linecolor\":\"white\",\"ticks\":\"\"},\"radialaxis\":{\"gridcolor\":\"white\",\"linecolor\":\"white\",\"ticks\":\"\"}},\"ternary\":{\"bgcolor\":\"#E5ECF6\",\"aaxis\":{\"gridcolor\":\"white\",\"linecolor\":\"white\",\"ticks\":\"\"},\"baxis\":{\"gridcolor\":\"white\",\"linecolor\":\"white\",\"ticks\":\"\"},\"caxis\":{\"gridcolor\":\"white\",\"linecolor\":\"white\",\"ticks\":\"\"}},\"coloraxis\":{\"colorbar\":{\"outlinewidth\":0,\"ticks\":\"\"}},\"colorscale\":{\"sequential\":[[0.0,\"#0d0887\"],[0.1111111111111111,\"#46039f\"],[0.2222222222222222,\"#7201a8\"],[0.3333333333333333,\"#9c179e\"],[0.4444444444444444,\"#bd3786\"],[0.5555555555555556,\"#d8576b\"],[0.6666666666666666,\"#ed7953\"],[0.7777777777777778,\"#fb9f3a\"],[0.8888888888888888,\"#fdca26\"],[1.0,\"#f0f921\"]],\"sequentialminus\":[[0.0,\"#0d0887\"],[0.1111111111111111,\"#46039f\"],[0.2222222222222222,\"#7201a8\"],[0.3333333333333333,\"#9c179e\"],[0.4444444444444444,\"#bd3786\"],[0.5555555555555556,\"#d8576b\"],[0.6666666666666666,\"#ed7953\"],[0.7777777777777778,\"#fb9f3a\"],[0.8888888888888888,\"#fdca26\"],[1.0,\"#f0f921\"]],\"diverging\":[[0,\"#8e0152\"],[0.1,\"#c51b7d\"],[0.2,\"#de77ae\"],[0.3,\"#f1b6da\"],[0.4,\"#fde0ef\"],[0.5,\"#f7f7f7\"],[0.6,\"#e6f5d0\"],[0.7,\"#b8e186\"],[0.8,\"#7fbc41\"],[0.9,\"#4d9221\"],[1,\"#276419\"]]},\"xaxis\":{\"gridcolor\":\"white\",\"linecolor\":\"white\",\"ticks\":\"\",\"title\":{\"standoff\":15},\"zerolinecolor\":\"white\",\"automargin\":true,\"zerolinewidth\":2},\"yaxis\":{\"gridcolor\":\"white\",\"linecolor\":\"white\",\"ticks\":\"\",\"title\":{\"standoff\":15},\"zerolinecolor\":\"white\",\"automargin\":true,\"zerolinewidth\":2},\"scene\":{\"xaxis\":{\"backgroundcolor\":\"#E5ECF6\",\"gridcolor\":\"white\",\"linecolor\":\"white\",\"showbackground\":true,\"ticks\":\"\",\"zerolinecolor\":\"white\",\"gridwidth\":2},\"yaxis\":{\"backgroundcolor\":\"#E5ECF6\",\"gridcolor\":\"white\",\"linecolor\":\"white\",\"showbackground\":true,\"ticks\":\"\",\"zerolinecolor\":\"white\",\"gridwidth\":2},\"zaxis\":{\"backgroundcolor\":\"#E5ECF6\",\"gridcolor\":\"white\",\"linecolor\":\"white\",\"showbackground\":true,\"ticks\":\"\",\"zerolinecolor\":\"white\",\"gridwidth\":2}},\"shapedefaults\":{\"line\":{\"color\":\"#2a3f5f\"}},\"annotationdefaults\":{\"arrowcolor\":\"#2a3f5f\",\"arrowhead\":0,\"arrowwidth\":1},\"geo\":{\"bgcolor\":\"white\",\"landcolor\":\"#E5ECF6\",\"subunitcolor\":\"white\",\"showland\":true,\"showlakes\":true,\"lakecolor\":\"white\"},\"title\":{\"x\":0.05},\"mapbox\":{\"style\":\"light\"}}}},                        {\"responsive\": true}                    ).then(function(){\n",
              "                            \n",
              "var gd = document.getElementById('bdc67d32-eeee-45c6-baed-3cc367a67214');\n",
              "var x = new MutationObserver(function (mutations, observer) {{\n",
              "        var display = window.getComputedStyle(gd).display;\n",
              "        if (!display || display === 'none') {{\n",
              "            console.log([gd, 'removed!']);\n",
              "            Plotly.purge(gd);\n",
              "            observer.disconnect();\n",
              "        }}\n",
              "}});\n",
              "\n",
              "// Listen for the removal of the full notebook cells\n",
              "var notebookContainer = gd.closest('#notebook-container');\n",
              "if (notebookContainer) {{\n",
              "    x.observe(notebookContainer, {childList: true});\n",
              "}}\n",
              "\n",
              "// Listen for the clearing of the current output cell\n",
              "var outputEl = gd.closest('.output');\n",
              "if (outputEl) {{\n",
              "    x.observe(outputEl, {childList: true});\n",
              "}}\n",
              "\n",
              "                        })                };                            </script>        </div>\n",
              "</body>\n",
              "</html>"
            ]
          },
          "metadata": {}
        }
      ]
    },
    {
      "cell_type": "code",
      "source": [
        "# Eğitim ve doğrulama ayrımı\n",
        "from sklearn.model_selection import train_test_split\n",
        "X_train, X_val, y_train, y_val = train_test_split(X, y, test_size=0.2, random_state=42)\n",
        "\n",
        "# Optuna'dan gelen parametrelerle model\n",
        "optuna_lgb_model = lgb.LGBMRegressor(**best_params)\n",
        "\n",
        "# Modeli eğit\n",
        "optuna_lgb_model.fit(X_train, y_train)\n",
        "\n",
        "# Test setinde tahmin yap\n",
        "X_test = test_df[X.columns]  # test_df zaten encoding işleminden geçmişti\n",
        "optuna_preds = optuna_lgb_model.predict(X_test)\n"
      ],
      "metadata": {
        "id": "sKMTid5cN3Eu"
      },
      "execution_count": null,
      "outputs": []
    },
    {
      "cell_type": "code",
      "source": [
        "submission_df = pd.DataFrame({\n",
        "    \"id\": test_df[\"id\"],\n",
        "    \"ürün fiyatı\": np.round(optuna_preds, 2)\n",
        "})\n",
        "\n",
        "submission_df.to_csv(\"final_submission_optuna.csv\", index=False)\n"
      ],
      "metadata": {
        "id": "KeoqSVuJN68s"
      },
      "execution_count": null,
      "outputs": []
    },
    {
      "cell_type": "code",
      "source": [
        "rf_sample_df = train_df.sample(n=45504, random_state=42)\n",
        "X_rf = rf_sample_df.drop(columns=[\"tarih\", \"ürün fiyatı\"])\n",
        "y_rf = rf_sample_df[\"ürün fiyatı\"]\n"
      ],
      "metadata": {
        "id": "FdSERdZvFwIx"
      },
      "execution_count": null,
      "outputs": []
    },
    {
      "cell_type": "code",
      "source": [
        "from sklearn.model_selection import train_test_split\n",
        "\n",
        "X = train_df.drop(columns=[\"tarih\", \"ürün fiyatı\"])\n",
        "y = train_df[\"ürün fiyatı\"]\n",
        "\n",
        "X_train, X_val, y_train, y_val = train_test_split(X, y, test_size=0.2, random_state=42)\n",
        "X_test = test_df[X.columns]\n"
      ],
      "metadata": {
        "id": "i99PwxraFyXO"
      },
      "execution_count": null,
      "outputs": []
    },
    {
      "cell_type": "code",
      "source": [
        "import lightgbm as lgb\n",
        "\n",
        "lgb_model = lgb.LGBMRegressor(\n",
        "    random_state=42,\n",
        "    n_estimators=40,\n",
        "    learning_rate=0.1,\n",
        "    max_depth=6,\n",
        "    subsample=0.8,\n",
        "    colsample_bytree=0.8\n",
        ")\n",
        "lgb_model.fit(X_train, y_train)\n",
        "lgb_preds = lgb_model.predict(X_test)\n"
      ],
      "metadata": {
        "id": "dj7bwd55F1kB"
      },
      "execution_count": null,
      "outputs": []
    },
    {
      "cell_type": "code",
      "source": [
        "from sklearn.ensemble import RandomForestRegressor\n",
        "\n",
        "rf_model = RandomForestRegressor(\n",
        "    n_estimators=40,\n",
        "    max_depth=10,\n",
        "    random_state=42,\n",
        "    n_jobs=-1\n",
        ")\n",
        "rf_model.fit(X_rf, y_rf)\n",
        "rf_preds = rf_model.predict(X_test)\n"
      ],
      "metadata": {
        "id": "ieWEc6slF5Gs"
      },
      "execution_count": null,
      "outputs": []
    },
    {
      "cell_type": "code",
      "source": [
        "ensemble_preds = (lgb_preds + rf_preds) / 2\n"
      ],
      "metadata": {
        "id": "Y8-ciVIUF8m6"
      },
      "execution_count": null,
      "outputs": []
    },
    {
      "cell_type": "code",
      "source": [
        "submission_df = pd.DataFrame({\n",
        "    \"id\": test_df[\"id\"],\n",
        "    \"ürün fiyatı\": np.round(ensemble_preds, 2)\n",
        "})\n",
        "\n",
        "submission_df.to_csv(\"final_submission_rf_lgb.csv\", index=False)\n"
      ],
      "metadata": {
        "id": "RG3f3S9zF_k_"
      },
      "execution_count": null,
      "outputs": []
    },
    {
      "cell_type": "code",
      "source": [
        "# Başlıkla birlikte yazdır\n",
        "print(\"Tahminler virgülden sonra 2 basamakla:\\n\")\n",
        "print(submission_df)"
      ],
      "metadata": {
        "id": "zqmkXMkiGD7Y",
        "outputId": "260300bf-4b24-49f1-f07d-afe3e02d0724",
        "colab": {
          "base_uri": "https://localhost:8080/"
        }
      },
      "execution_count": null,
      "outputs": [
        {
          "output_type": "stream",
          "name": "stdout",
          "text": [
            "Tahminler virgülden sonra 2 basamakla:\n",
            "\n",
            "          id  ürün fiyatı\n",
            "0          0        86.65\n",
            "1          1        33.60\n",
            "2          2        37.52\n",
            "3          3        23.81\n",
            "4          4        37.18\n",
            "...      ...          ...\n",
            "45499  45499        56.96\n",
            "45500  45500        57.63\n",
            "45501  45501        58.34\n",
            "45502  45502        58.86\n",
            "45503  45503        64.31\n",
            "\n",
            "[45504 rows x 2 columns]\n"
          ]
        }
      ]
    }
  ]
}