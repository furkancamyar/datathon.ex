{
  "nbformat": 4,
  "nbformat_minor": 0,
  "metadata": {
    "colab": {
      "provenance": []
    },
    "kernelspec": {
      "name": "python3",
      "display_name": "Python 3"
    },
    "language_info": {
      "name": "python"
    }
  },
  "cells": [
    {
      "cell_type": "code",
      "execution_count": null,
      "metadata": {
        "colab": {
          "base_uri": "https://localhost:8080/"
        },
        "id": "NLVB99U3-rjP",
        "outputId": "2f878316-c7ed-46a2-a4a5-655ba0711e19"
      },
      "outputs": [
        {
          "output_type": "stream",
          "name": "stdout",
          "text": [
            "\u001b[2K   \u001b[90m━━━━━━━━━━━━━━━━━━━━━━━━━━━━━━━━━━━━━━━━\u001b[0m \u001b[32m99.2/99.2 MB\u001b[0m \u001b[31m9.2 MB/s\u001b[0m eta \u001b[36m0:00:00\u001b[0m\n",
            "\u001b[2K   \u001b[90m━━━━━━━━━━━━━━━━━━━━━━━━━━━━━━━━━━━━━━━━\u001b[0m \u001b[32m386.6/386.6 kB\u001b[0m \u001b[31m14.2 MB/s\u001b[0m eta \u001b[36m0:00:00\u001b[0m\n",
            "\u001b[2K   \u001b[90m━━━━━━━━━━━━━━━━━━━━━━━━━━━━━━━━━━━━━━━━\u001b[0m \u001b[32m231.9/231.9 kB\u001b[0m \u001b[31m14.1 MB/s\u001b[0m eta \u001b[36m0:00:00\u001b[0m\n",
            "\u001b[?25h"
          ]
        }
      ],
      "source": [
        "!pip install catboost optuna --quiet\n"
      ]
    },
    {
      "cell_type": "code",
      "source": [
        "from google.colab import files\n",
        "uploaded = files.upload()\n"
      ],
      "metadata": {
        "colab": {
          "base_uri": "https://localhost:8080/",
          "height": 141
        },
        "id": "mdAYCOj3_k8j",
        "outputId": "0dba3ccd-ea1b-4ce8-beca-851722508f4b"
      },
      "execution_count": null,
      "outputs": [
        {
          "output_type": "display_data",
          "data": {
            "text/plain": [
              "<IPython.core.display.HTML object>"
            ],
            "text/html": [
              "\n",
              "     <input type=\"file\" id=\"files-351483ae-cb13-4c15-88dc-814e8d4077b4\" name=\"files[]\" multiple disabled\n",
              "        style=\"border:none\" />\n",
              "     <output id=\"result-351483ae-cb13-4c15-88dc-814e8d4077b4\">\n",
              "      Upload widget is only available when the cell has been executed in the\n",
              "      current browser session. Please rerun this cell to enable.\n",
              "      </output>\n",
              "      <script>// Copyright 2017 Google LLC\n",
              "//\n",
              "// Licensed under the Apache License, Version 2.0 (the \"License\");\n",
              "// you may not use this file except in compliance with the License.\n",
              "// You may obtain a copy of the License at\n",
              "//\n",
              "//      http://www.apache.org/licenses/LICENSE-2.0\n",
              "//\n",
              "// Unless required by applicable law or agreed to in writing, software\n",
              "// distributed under the License is distributed on an \"AS IS\" BASIS,\n",
              "// WITHOUT WARRANTIES OR CONDITIONS OF ANY KIND, either express or implied.\n",
              "// See the License for the specific language governing permissions and\n",
              "// limitations under the License.\n",
              "\n",
              "/**\n",
              " * @fileoverview Helpers for google.colab Python module.\n",
              " */\n",
              "(function(scope) {\n",
              "function span(text, styleAttributes = {}) {\n",
              "  const element = document.createElement('span');\n",
              "  element.textContent = text;\n",
              "  for (const key of Object.keys(styleAttributes)) {\n",
              "    element.style[key] = styleAttributes[key];\n",
              "  }\n",
              "  return element;\n",
              "}\n",
              "\n",
              "// Max number of bytes which will be uploaded at a time.\n",
              "const MAX_PAYLOAD_SIZE = 100 * 1024;\n",
              "\n",
              "function _uploadFiles(inputId, outputId) {\n",
              "  const steps = uploadFilesStep(inputId, outputId);\n",
              "  const outputElement = document.getElementById(outputId);\n",
              "  // Cache steps on the outputElement to make it available for the next call\n",
              "  // to uploadFilesContinue from Python.\n",
              "  outputElement.steps = steps;\n",
              "\n",
              "  return _uploadFilesContinue(outputId);\n",
              "}\n",
              "\n",
              "// This is roughly an async generator (not supported in the browser yet),\n",
              "// where there are multiple asynchronous steps and the Python side is going\n",
              "// to poll for completion of each step.\n",
              "// This uses a Promise to block the python side on completion of each step,\n",
              "// then passes the result of the previous step as the input to the next step.\n",
              "function _uploadFilesContinue(outputId) {\n",
              "  const outputElement = document.getElementById(outputId);\n",
              "  const steps = outputElement.steps;\n",
              "\n",
              "  const next = steps.next(outputElement.lastPromiseValue);\n",
              "  return Promise.resolve(next.value.promise).then((value) => {\n",
              "    // Cache the last promise value to make it available to the next\n",
              "    // step of the generator.\n",
              "    outputElement.lastPromiseValue = value;\n",
              "    return next.value.response;\n",
              "  });\n",
              "}\n",
              "\n",
              "/**\n",
              " * Generator function which is called between each async step of the upload\n",
              " * process.\n",
              " * @param {string} inputId Element ID of the input file picker element.\n",
              " * @param {string} outputId Element ID of the output display.\n",
              " * @return {!Iterable<!Object>} Iterable of next steps.\n",
              " */\n",
              "function* uploadFilesStep(inputId, outputId) {\n",
              "  const inputElement = document.getElementById(inputId);\n",
              "  inputElement.disabled = false;\n",
              "\n",
              "  const outputElement = document.getElementById(outputId);\n",
              "  outputElement.innerHTML = '';\n",
              "\n",
              "  const pickedPromise = new Promise((resolve) => {\n",
              "    inputElement.addEventListener('change', (e) => {\n",
              "      resolve(e.target.files);\n",
              "    });\n",
              "  });\n",
              "\n",
              "  const cancel = document.createElement('button');\n",
              "  inputElement.parentElement.appendChild(cancel);\n",
              "  cancel.textContent = 'Cancel upload';\n",
              "  const cancelPromise = new Promise((resolve) => {\n",
              "    cancel.onclick = () => {\n",
              "      resolve(null);\n",
              "    };\n",
              "  });\n",
              "\n",
              "  // Wait for the user to pick the files.\n",
              "  const files = yield {\n",
              "    promise: Promise.race([pickedPromise, cancelPromise]),\n",
              "    response: {\n",
              "      action: 'starting',\n",
              "    }\n",
              "  };\n",
              "\n",
              "  cancel.remove();\n",
              "\n",
              "  // Disable the input element since further picks are not allowed.\n",
              "  inputElement.disabled = true;\n",
              "\n",
              "  if (!files) {\n",
              "    return {\n",
              "      response: {\n",
              "        action: 'complete',\n",
              "      }\n",
              "    };\n",
              "  }\n",
              "\n",
              "  for (const file of files) {\n",
              "    const li = document.createElement('li');\n",
              "    li.append(span(file.name, {fontWeight: 'bold'}));\n",
              "    li.append(span(\n",
              "        `(${file.type || 'n/a'}) - ${file.size} bytes, ` +\n",
              "        `last modified: ${\n",
              "            file.lastModifiedDate ? file.lastModifiedDate.toLocaleDateString() :\n",
              "                                    'n/a'} - `));\n",
              "    const percent = span('0% done');\n",
              "    li.appendChild(percent);\n",
              "\n",
              "    outputElement.appendChild(li);\n",
              "\n",
              "    const fileDataPromise = new Promise((resolve) => {\n",
              "      const reader = new FileReader();\n",
              "      reader.onload = (e) => {\n",
              "        resolve(e.target.result);\n",
              "      };\n",
              "      reader.readAsArrayBuffer(file);\n",
              "    });\n",
              "    // Wait for the data to be ready.\n",
              "    let fileData = yield {\n",
              "      promise: fileDataPromise,\n",
              "      response: {\n",
              "        action: 'continue',\n",
              "      }\n",
              "    };\n",
              "\n",
              "    // Use a chunked sending to avoid message size limits. See b/62115660.\n",
              "    let position = 0;\n",
              "    do {\n",
              "      const length = Math.min(fileData.byteLength - position, MAX_PAYLOAD_SIZE);\n",
              "      const chunk = new Uint8Array(fileData, position, length);\n",
              "      position += length;\n",
              "\n",
              "      const base64 = btoa(String.fromCharCode.apply(null, chunk));\n",
              "      yield {\n",
              "        response: {\n",
              "          action: 'append',\n",
              "          file: file.name,\n",
              "          data: base64,\n",
              "        },\n",
              "      };\n",
              "\n",
              "      let percentDone = fileData.byteLength === 0 ?\n",
              "          100 :\n",
              "          Math.round((position / fileData.byteLength) * 100);\n",
              "      percent.textContent = `${percentDone}% done`;\n",
              "\n",
              "    } while (position < fileData.byteLength);\n",
              "  }\n",
              "\n",
              "  // All done.\n",
              "  yield {\n",
              "    response: {\n",
              "      action: 'complete',\n",
              "    }\n",
              "  };\n",
              "}\n",
              "\n",
              "scope.google = scope.google || {};\n",
              "scope.google.colab = scope.google.colab || {};\n",
              "scope.google.colab._files = {\n",
              "  _uploadFiles,\n",
              "  _uploadFilesContinue,\n",
              "};\n",
              "})(self);\n",
              "</script> "
            ]
          },
          "metadata": {}
        },
        {
          "output_type": "stream",
          "name": "stdout",
          "text": [
            "Saving sample_submission.csv to sample_submission.csv\n",
            "Saving testFeatures.csv to testFeatures.csv\n",
            "Saving train.csv to train.csv\n"
          ]
        }
      ]
    },
    {
      "cell_type": "code",
      "source": [
        "import pandas as pd\n",
        "import numpy as np\n",
        "from catboost import CatBoostRegressor\n",
        "from sklearn.metrics import mean_squared_error\n",
        "from sklearn.preprocessing import LabelEncoder\n",
        "import optuna\n",
        "\n",
        "# Verileri oku\n",
        "train = pd.read_csv(\"train.csv\")\n",
        "test = pd.read_csv(\"testFeatures.csv\")\n",
        "submission = pd.read_csv(\"sample_submission.csv\")\n",
        "\n",
        "# Tarih sütunları\n",
        "train[\"tarih\"] = pd.to_datetime(train[\"tarih\"])\n",
        "test[\"tarih\"] = pd.to_datetime(test[\"tarih\"])\n",
        "train[\"yıl\"] = train[\"tarih\"].dt.year\n",
        "train[\"ay\"] = train[\"tarih\"].dt.month\n",
        "test[\"yıl\"] = test[\"tarih\"].dt.year\n",
        "test[\"ay\"] = test[\"tarih\"].dt.month\n",
        "\n"
      ],
      "metadata": {
        "id": "1bwLZmPpAUj3"
      },
      "execution_count": null,
      "outputs": []
    },
    {
      "cell_type": "code",
      "source": [
        "print(train.columns.tolist())\n",
        "\n"
      ],
      "metadata": {
        "colab": {
          "base_uri": "https://localhost:8080/"
        },
        "id": "g2jzIBdnAYFc",
        "outputId": "7f12986a-b518-4980-a731-38624cc70ea9"
      },
      "execution_count": null,
      "outputs": [
        {
          "output_type": "stream",
          "name": "stdout",
          "text": [
            "['tarih', 'ürün', 'ürün besin değeri', 'ürün kategorisi', 'ürün fiyatı', 'ürün üretim yeri', 'market', 'şehir', 'yıl', 'ay']\n"
          ]
        }
      ]
    },
    {
      "cell_type": "code",
      "source": [
        "cat_features = [\"ürün\", \"market\", \"şehir\", \"ürün kategorisi\"]\n",
        "\n",
        "from sklearn.preprocessing import LabelEncoder\n",
        "\n",
        "for col in cat_features:\n",
        "    le = LabelEncoder()\n",
        "    train[col] = le.fit_transform(train[col].astype(str))\n",
        "    test[col] = le.transform(test[col].astype(str))\n",
        "\n"
      ],
      "metadata": {
        "id": "4j-nwa0PAcEm"
      },
      "execution_count": null,
      "outputs": []
    },
    {
      "cell_type": "code",
      "source": [
        "\n",
        "target = \"ürün fiyatı\"\n",
        "drop_cols = [\"id\", \"tarih\", target]  # id yoksa otomatik geçilir\n",
        "features = [col for col in train.columns if col not in drop_cols]\n",
        "\n",
        "X = train[features]\n",
        "y = train[target]\n",
        "X_test = test[features]\n"
      ],
      "metadata": {
        "id": "2a9I2FEZAhfo"
      },
      "execution_count": null,
      "outputs": []
    },
    {
      "cell_type": "code",
      "source": [
        "from sklearn.preprocessing import LabelEncoder\n",
        "\n",
        "# Tüm object (metinsel) sütunları otomatik bul\n",
        "object_cols = train.select_dtypes(include=[\"object\"]).columns\n",
        "\n",
        "for col in object_cols:\n",
        "    le = LabelEncoder()\n",
        "    train[col] = le.fit_transform(train[col].astype(str))\n",
        "    test[col] = le.transform(test[col].astype(str))\n",
        "\n",
        "\n",
        "\n"
      ],
      "metadata": {
        "id": "LDCGdytiA_EA"
      },
      "execution_count": null,
      "outputs": []
    },
    {
      "cell_type": "code",
      "source": [
        "def objective(trial):\n",
        "    params = {\n",
        "        \"iterations\": trial.suggest_int(\"iterations\", 100, 1000),\n",
        "        \"learning_rate\": trial.suggest_float(\"learning_rate\", 0.01, 0.3),\n",
        "        \"depth\": trial.suggest_int(\"depth\", 4, 10),\n",
        "        \"loss_function\": \"RMSE\",\n",
        "        \"verbose\": 0\n",
        "    }\n",
        "\n",
        "    model = CatBoostRegressor(**params)\n",
        "    model.fit(X, y)\n",
        "    preds = model.predict(X)\n",
        "    rmse = mean_squared_error(y, preds, squared=False)\n",
        "    return rmse\n"
      ],
      "metadata": {
        "id": "rvSlXczqBJR0"
      },
      "execution_count": null,
      "outputs": []
    },
    {
      "cell_type": "code",
      "source": [
        "print(train.dtypes[train.dtypes == \"object\"])\n"
      ],
      "metadata": {
        "colab": {
          "base_uri": "https://localhost:8080/"
        },
        "id": "FTllWuVIDexL",
        "outputId": "217900c0-1479-4733-c2b4-ca01a60fcd71"
      },
      "execution_count": null,
      "outputs": [
        {
          "output_type": "stream",
          "name": "stdout",
          "text": [
            "Series([], dtype: object)\n"
          ]
        }
      ]
    },
    {
      "cell_type": "code",
      "source": [
        "from sklearn.preprocessing import LabelEncoder\n",
        "\n",
        "object_cols = train.select_dtypes(include=[\"object\"]).columns\n",
        "\n",
        "for col in object_cols:\n",
        "    le = LabelEncoder()\n",
        "    train[col] = le.fit_transform(train[col].astype(str))\n",
        "    test[col] = le.transform(test[col].astype(str))\n"
      ],
      "metadata": {
        "id": "vxcjJMb_DzLT"
      },
      "execution_count": null,
      "outputs": []
    },
    {
      "cell_type": "code",
      "source": [
        "target = \"ürün fiyatı\"\n",
        "drop_cols = [\"id\", \"tarih\", target]  # varsa\n",
        "features = [col for col in train.columns if col not in drop_cols]\n",
        "\n",
        "X = train[features]\n",
        "y = train[target]\n",
        "X_test = test[features]\n"
      ],
      "metadata": {
        "id": "X97ACsGND4qA"
      },
      "execution_count": null,
      "outputs": []
    },
    {
      "cell_type": "code",
      "source": [
        "import numpy as np\n",
        "\n",
        "def objective(trial):\n",
        "    params = {\n",
        "        \"iterations\": trial.suggest_int(\"iterations\", 100, 1000),\n",
        "        \"learning_rate\": trial.suggest_float(\"learning_rate\", 0.01, 0.3),\n",
        "        \"depth\": trial.suggest_int(\"depth\", 4, 10),\n",
        "        \"loss_function\": \"RMSE\",\n",
        "        \"verbose\": 0\n",
        "    }\n",
        "\n",
        "    model = CatBoostRegressor(**params)\n",
        "    model.fit(X, y)\n",
        "    preds = model.predict(X)\n",
        "\n",
        "    mse = mean_squared_error(y, preds)\n",
        "    rmse = np.sqrt(mse)  # burası güncellendi\n",
        "    return rmse\n",
        "\n"
      ],
      "metadata": {
        "id": "qefjskAvD6xH"
      },
      "execution_count": null,
      "outputs": []
    },
    {
      "cell_type": "code",
      "source": [
        "study = optuna.create_study(direction=\"minimize\")\n",
        "study.optimize(objective, n_trials=20)\n"
      ],
      "metadata": {
        "colab": {
          "base_uri": "https://localhost:8080/"
        },
        "id": "LlyRZRURECxK",
        "outputId": "35be1a64-5e79-47c1-fbcc-82b0a5043840"
      },
      "execution_count": null,
      "outputs": [
        {
          "output_type": "stream",
          "name": "stderr",
          "text": [
            "[I 2025-05-03 21:33:35,328] A new study created in memory with name: no-name-7e9f757f-304b-4ecb-925a-757145ff302c\n",
            "[I 2025-05-03 21:33:51,273] Trial 0 finished with value: 1.3379015110120158 and parameters: {'iterations': 472, 'learning_rate': 0.17407495477124593, 'depth': 5}. Best is trial 0 with value: 1.3379015110120158.\n",
            "[I 2025-05-03 21:33:59,193] Trial 1 finished with value: 1.3769234868582174 and parameters: {'iterations': 115, 'learning_rate': 0.12514855279665954, 'depth': 10}. Best is trial 0 with value: 1.3379015110120158.\n",
            "[I 2025-05-03 21:34:16,354] Trial 2 finished with value: 1.798517295115037 and parameters: {'iterations': 476, 'learning_rate': 0.02862041184668422, 'depth': 7}. Best is trial 0 with value: 1.3379015110120158.\n",
            "[I 2025-05-03 21:34:41,367] Trial 3 finished with value: 1.0171973603029385 and parameters: {'iterations': 652, 'learning_rate': 0.2243135239759353, 'depth': 7}. Best is trial 3 with value: 1.0171973603029385.\n",
            "[I 2025-05-03 21:35:17,681] Trial 4 finished with value: 0.7563006869926047 and parameters: {'iterations': 853, 'learning_rate': 0.2457353211427927, 'depth': 8}. Best is trial 4 with value: 0.7563006869926047.\n",
            "[I 2025-05-03 21:36:02,982] Trial 5 finished with value: 0.6584872635243731 and parameters: {'iterations': 706, 'learning_rate': 0.14525617206731573, 'depth': 10}. Best is trial 5 with value: 0.6584872635243731.\n",
            "[I 2025-05-03 21:36:12,321] Trial 6 finished with value: 1.5412164837047042 and parameters: {'iterations': 327, 'learning_rate': 0.11769587923717803, 'depth': 5}. Best is trial 5 with value: 0.6584872635243731.\n",
            "[I 2025-05-03 21:36:18,047] Trial 7 finished with value: 2.172780454992013 and parameters: {'iterations': 163, 'learning_rate': 0.1806818196043045, 'depth': 4}. Best is trial 5 with value: 0.6584872635243731.\n",
            "[I 2025-05-03 21:36:21,481] Trial 8 finished with value: 2.255243937712766 and parameters: {'iterations': 110, 'learning_rate': 0.10877913736118563, 'depth': 6}. Best is trial 5 with value: 0.6584872635243731.\n",
            "[I 2025-05-03 21:36:54,118] Trial 9 finished with value: 1.1124868952168303 and parameters: {'iterations': 844, 'learning_rate': 0.10526507594032285, 'depth': 7}. Best is trial 5 with value: 0.6584872635243731.\n",
            "[I 2025-05-03 21:37:55,985] Trial 10 finished with value: 1.0272381190047424 and parameters: {'iterations': 994, 'learning_rate': 0.03555897952256713, 'depth': 10}. Best is trial 5 with value: 0.6584872635243731.\n",
            "[I 2025-05-03 21:38:31,442] Trial 11 finished with value: 0.5902484802377476 and parameters: {'iterations': 733, 'learning_rate': 0.2950539020044125, 'depth': 9}. Best is trial 11 with value: 0.5902484802377476.\n",
            "[I 2025-05-03 21:39:04,352] Trial 12 finished with value: 0.6159040907138846 and parameters: {'iterations': 671, 'learning_rate': 0.2904080297398809, 'depth': 9}. Best is trial 11 with value: 0.5902484802377476.\n",
            "[I 2025-05-03 21:39:34,640] Trial 13 finished with value: 0.6168974441020189 and parameters: {'iterations': 647, 'learning_rate': 0.29388480862613425, 'depth': 9}. Best is trial 11 with value: 0.5902484802377476.\n",
            "[I 2025-05-03 21:40:12,078] Trial 14 finished with value: 0.5904462684112763 and parameters: {'iterations': 780, 'learning_rate': 0.2798989454603913, 'depth': 9}. Best is trial 11 with value: 0.5902484802377476.\n",
            "[I 2025-05-03 21:40:51,468] Trial 15 finished with value: 0.6188523028906124 and parameters: {'iterations': 821, 'learning_rate': 0.24284989985492658, 'depth': 9}. Best is trial 11 with value: 0.5902484802377476.\n",
            "[I 2025-05-03 21:41:31,856] Trial 16 finished with value: 0.7018457467757313 and parameters: {'iterations': 963, 'learning_rate': 0.2665105388843694, 'depth': 8}. Best is trial 11 with value: 0.5902484802377476.\n",
            "[I 2025-05-03 21:42:05,134] Trial 17 finished with value: 0.8276000304854466 and parameters: {'iterations': 766, 'learning_rate': 0.21532715693173238, 'depth': 8}. Best is trial 11 with value: 0.5902484802377476.\n",
            "[I 2025-05-03 21:42:31,226] Trial 18 finished with value: 0.711445333124813 and parameters: {'iterations': 547, 'learning_rate': 0.27218259679540774, 'depth': 9}. Best is trial 11 with value: 0.5902484802377476.\n"
          ]
        }
      ]
    },
    {
      "cell_type": "code",
      "source": [
        "best_params = study.best_params\n",
        "best_params[\"loss_function\"] = \"RMSE\"\n",
        "best_params[\"verbose\"] = 0\n",
        "\n",
        "model = CatBoostRegressor(**best_params)\n",
        "model.fit(X, y)\n"
      ],
      "metadata": {
        "colab": {
          "base_uri": "https://localhost:8080/"
        },
        "id": "YTiKySjvG6Ms",
        "outputId": "20a9fae8-4268-464c-cf05-be90313c0a62"
      },
      "execution_count": null,
      "outputs": [
        {
          "output_type": "execute_result",
          "data": {
            "text/plain": [
              "<catboost.core.CatBoostRegressor at 0x7b0c5ff9e590>"
            ]
          },
          "metadata": {},
          "execution_count": 38
        }
      ]
    },
    {
      "cell_type": "code",
      "source": [
        "predictions = model.predict(X_test)\n"
      ],
      "metadata": {
        "id": "yAJIDgerHI8V"
      },
      "execution_count": null,
      "outputs": []
    },
    {
      "cell_type": "code",
      "source": [
        "predictions_rounded = np.round(predictions, 2)\n",
        "\n",
        "final = pd.DataFrame({\n",
        "    \"id\": test[\"id\"],\n",
        "    \"ürün fiyatı\": predictions_rounded\n",
        "})\n",
        "\n",
        "final.to_csv(\"final_submission.csv\", index=False)\n",
        "print(\"✅ Tahminler virgülden sonra 2 basamak olacak şekilde final_submission.csv dosyasına yazıldı.\")\n",
        "print(final.head(45504))\n"
      ],
      "metadata": {
        "colab": {
          "base_uri": "https://localhost:8080/"
        },
        "id": "50qs-mnvHL6z",
        "outputId": "7bbe8023-7b2f-495b-dd8c-b35bbeedabce"
      },
      "execution_count": null,
      "outputs": [
        {
          "output_type": "stream",
          "name": "stdout",
          "text": [
            "✅ Tahminler virgülden sonra 2 basamak olacak şekilde final_submission.csv dosyasına yazıldı.\n",
            "          id  ürün fiyatı\n",
            "0          0        84.39\n",
            "1          1        27.23\n",
            "2          2        32.89\n",
            "3          3        19.73\n",
            "4          4        33.63\n",
            "...      ...          ...\n",
            "45499  45499        60.82\n",
            "45500  45500        68.18\n",
            "45501  45501        66.65\n",
            "45502  45502        63.71\n",
            "45503  45503        77.77\n",
            "\n",
            "[45504 rows x 2 columns]\n"
          ]
        }
      ]
    },
    {
      "cell_type": "code",
      "source": [
        "from google.colab import files\n",
        "files.download(\"final_submission.csv\")\n"
      ],
      "metadata": {
        "colab": {
          "base_uri": "https://localhost:8080/",
          "height": 17
        },
        "id": "Y_JmxtBTSyrb",
        "outputId": "52654b8d-98bd-45f4-93f7-841e26ac212b"
      },
      "execution_count": null,
      "outputs": [
        {
          "output_type": "display_data",
          "data": {
            "text/plain": [
              "<IPython.core.display.Javascript object>"
            ],
            "application/javascript": [
              "\n",
              "    async function download(id, filename, size) {\n",
              "      if (!google.colab.kernel.accessAllowed) {\n",
              "        return;\n",
              "      }\n",
              "      const div = document.createElement('div');\n",
              "      const label = document.createElement('label');\n",
              "      label.textContent = `Downloading \"${filename}\": `;\n",
              "      div.appendChild(label);\n",
              "      const progress = document.createElement('progress');\n",
              "      progress.max = size;\n",
              "      div.appendChild(progress);\n",
              "      document.body.appendChild(div);\n",
              "\n",
              "      const buffers = [];\n",
              "      let downloaded = 0;\n",
              "\n",
              "      const channel = await google.colab.kernel.comms.open(id);\n",
              "      // Send a message to notify the kernel that we're ready.\n",
              "      channel.send({})\n",
              "\n",
              "      for await (const message of channel.messages) {\n",
              "        // Send a message to notify the kernel that we're ready.\n",
              "        channel.send({})\n",
              "        if (message.buffers) {\n",
              "          for (const buffer of message.buffers) {\n",
              "            buffers.push(buffer);\n",
              "            downloaded += buffer.byteLength;\n",
              "            progress.value = downloaded;\n",
              "          }\n",
              "        }\n",
              "      }\n",
              "      const blob = new Blob(buffers, {type: 'application/binary'});\n",
              "      const a = document.createElement('a');\n",
              "      a.href = window.URL.createObjectURL(blob);\n",
              "      a.download = filename;\n",
              "      div.appendChild(a);\n",
              "      a.click();\n",
              "      div.remove();\n",
              "    }\n",
              "  "
            ]
          },
          "metadata": {}
        },
        {
          "output_type": "display_data",
          "data": {
            "text/plain": [
              "<IPython.core.display.Javascript object>"
            ],
            "application/javascript": [
              "download(\"download_8f996ce8-7835-40d8-84f3-d83efda98e54\", \"final_submission.csv\", 526213)"
            ]
          },
          "metadata": {}
        }
      ]
    }
  ]
}